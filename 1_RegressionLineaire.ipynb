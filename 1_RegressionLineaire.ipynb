{
 "cells": [
  {
   "cell_type": "markdown",
   "id": "c2ca08eb",
   "metadata": {},
   "source": [
    "# Regression lineaire"
   ]
  },
  {
   "cell_type": "code",
   "execution_count": 29,
   "id": "c93f4d5f",
   "metadata": {},
   "outputs": [],
   "source": [
    "import numpy as np\n",
    "import matplotlib.pyplot as plt #pour la visualisation\n",
    "from sklearn.linear_model import LinearRegression # pour le modele de regression lineaire\n",
    "from sklearn.model_selection import train_test_split"
   ]
  },
  {
   "cell_type": "code",
   "execution_count": 7,
   "id": "48f4e9ac",
   "metadata": {},
   "outputs": [],
   "source": [
    "# je vais inventer des donnees moi meme\n",
    "time_studied = np.array([18, 50, 32, 65, 23, 43, 10, 5, 22, 35, 29, 5, 56])\n",
    "scores = np.array([56, 83, 47, 93, 47, 82, 45, 78, 55, 67, 57, 4, 12])"
   ]
  },
  {
   "cell_type": "code",
   "execution_count": 10,
   "id": "19a3edbc",
   "metadata": {},
   "outputs": [
    {
     "name": "stdout",
     "output_type": "stream",
     "text": [
      "[[18]\n",
      " [50]\n",
      " [32]\n",
      " [65]\n",
      " [23]\n",
      " [43]\n",
      " [10]\n",
      " [ 5]\n",
      " [22]\n",
      " [35]\n",
      " [29]\n",
      " [ 5]\n",
      " [56]]\n",
      "[[56]\n",
      " [83]\n",
      " [47]\n",
      " [93]\n",
      " [47]\n",
      " [82]\n",
      " [45]\n",
      " [78]\n",
      " [55]\n",
      " [67]\n",
      " [57]\n",
      " [ 4]\n",
      " [12]]\n"
     ]
    }
   ],
   "source": [
    "#remodeler les données, on les as en format horizontal et il nous les faut en format vertical,\n",
    "# a l'aide de .reshape(-1,1)\n",
    "time_studied = np.array([18, 50, 32, 65, 23, 43, 10, 5, 22, 35, 29, 5, 56]).reshape(-1,1)\n",
    "scores = np.array([56, 83, 47, 93, 47, 82, 45, 78, 55, 67, 57, 4, 12]).reshape(-1,1)\n",
    "print(time_studied)\n",
    "print(scores)b"
   ]
  },
  {
   "cell_type": "code",
   "execution_count": 22,
   "id": "86bb5074",
   "metadata": {},
   "outputs": [
    {
     "data": {
      "text/plain": [
       "LinearRegression()"
      ]
     },
     "execution_count": 22,
     "metadata": {},
     "output_type": "execute_result"
    }
   ],
   "source": [
    "# nous allons creer le modele\n",
    "model = LinearRegression()\n",
    "# et trouver la perfect line:\n",
    "model.fit(time_studied, scores)\n"
   ]
  },
  {
   "cell_type": "code",
   "execution_count": 20,
   "id": "08a814bf",
   "metadata": {},
   "outputs": [
    {
     "ename": "SyntaxError",
     "evalue": "invalid syntax (1470780165.py, line 5)",
     "output_type": "error",
     "traceback": [
      "\u001b[1;36m  File \u001b[1;32m\"C:\\Users\\hotsa\\AppData\\Local\\Temp\\ipykernel_13328\\1470780165.py\"\u001b[1;36m, line \u001b[1;32m5\u001b[0m\n\u001b[1;33m    plt.ylin(0,100)\u001b[0m\n\u001b[1;37m      ^\u001b[0m\n\u001b[1;31mSyntaxError\u001b[0m\u001b[1;31m:\u001b[0m invalid syntax\n"
     ]
    }
   ],
   "source": [
    "#on va visualiser nos points\n",
    "plt.scatter(time_studied, scores)\n",
    "#on rajoute la ligne de regression lineaire:\n",
    "plt.plot(np.linspace(0,70,100).reshape(-1,1), model.predict(np.linspace(0,70,100).reshape(-1,1), 'r')\n",
    "plt.ylin(0,100)\n",
    "plt.show()"
   ]
  },
  {
   "cell_type": "code",
   "execution_count": 27,
   "id": "350dd974",
   "metadata": {},
   "outputs": [
    {
     "name": "stdout",
     "output_type": "stream",
     "text": [
      "[[68.16528752]]\n"
     ]
    }
   ],
   "source": [
    "#essayer notre modele avec une valeur\n",
    "print(model.predict(np.array([56]).reshape(-1,1)))"
   ]
  },
  {
   "cell_type": "code",
   "execution_count": 41,
   "id": "f2e526f4",
   "metadata": {},
   "outputs": [],
   "source": [
    "# nous allons tester le modele , voir si il est precis et fonctionne( performe)\n",
    "# on divise nos datas pour le tester\n",
    "time_train, time_test, score_train, score_test = train_test_split(time_studied, scores, test_size=0.2)"
   ]
  },
  {
   "cell_type": "code",
   "execution_count": 39,
   "id": "59169066",
   "metadata": {},
   "outputs": [
    {
     "data": {
      "text/plain": [
       "LinearRegression()"
      ]
     },
     "execution_count": 39,
     "metadata": {},
     "output_type": "execute_result"
    }
   ],
   "source": [
    "# nous allons creer le modele\n",
    "model = LinearRegression()\n",
    "# et trouver la perfect line:\n",
    "model.fit(time_train, score_train)\n"
   ]
  },
  {
   "cell_type": "code",
   "execution_count": 40,
   "id": "bb3c1cea",
   "metadata": {},
   "outputs": [
    {
     "name": "stdout",
     "output_type": "stream",
     "text": [
      "-0.9594558490362481\n"
     ]
    }
   ],
   "source": [
    "print(model.score(time_test, score_test))"
   ]
  },
  {
   "cell_type": "markdown",
   "id": "d2fa6065",
   "metadata": {},
   "source": [
    "Pour un modèle de régression linéaire, la méthode .score() renvoie généralement le coefficient de détermination R2R2.\n",
    "\n",
    "Le coefficient R2R2 mesure la proportion de la variance des valeurs cibles (dans score_test) qui est expliquée par les prédictions du modèle basé sur les données d'entrée (dans time_test). Ce score varie entre :\n",
    "\n",
    "    1 : Le modèle explique parfaitement la variance des données (c’est un ajustement parfait).\n",
    "    0 : Le modèle ne fait pas mieux qu’une simple moyenne des valeurs cibles (aucune information sur  la relation n'est capturée).\n",
    "    < 0 : Le modèle est moins performant que la moyenne, ce qui peut indiquer un ajustement très mauvais ou des erreurs dans les données ou le modèle.\n",
    "\n",
    "on affiche le score R2R2 du modèle de régression linéaire sur les données de test, indiquant dans quelle mesure le modèle explique les valeurs observées."
   ]
  },
  {
   "cell_type": "code",
   "execution_count": 43,
   "id": "77abd3f1",
   "metadata": {},
   "outputs": [
    {
     "data": {
      "image/png": "[encoded data removed]",
      "text/plain": [
       "<Figure size 640x480 with 1 Axes>"
      ]
     },
     "metadata": {},
     "output_type": "display_data"
    }
   ],
   "source": [
    "plt.scatter(time_train, score_train)\n",
    "plt.plot(np.linspace(0,70,100).reshape(-1,1), model.predict(np.linspace(0,70,100).reshape(-1,1)), 'r')\n",
    "plt.show()"
   ]
  }
 ],
 "metadata": {
  "kernelspec": {
   "display_name": "Python 3 (ipykernel)",
   "language": "python",
   "name": "python3"
  },
  "language_info": {
   "codemirror_mode": {
    "name": "ipython",
    "version": 3
   },
   "file_extension": ".py",
   "mimetype": "text/x-python",
   "name": "python",
   "nbconvert_exporter": "python",
   "pygments_lexer": "ipython3",
   "version": "3.7.16"
  }
 },
 "nbformat": 4,
 "nbformat_minor": 5
}
