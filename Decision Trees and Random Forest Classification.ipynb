{
 "cells": [
  {
   "cell_type": "markdown",
   "id": "6a9d4649",
   "metadata": {},
   "source": [
    "# Decision Trees and Random Forest Classification"
   ]
  },
  {
   "cell_type": "markdown",
   "id": "fdcd8962",
   "metadata": {},
   "source": [
    "Classificateur de foret aleatoire\n",
    "explication:\n",
    "        predire decisons,\n",
    "        utiliser l'historique data\n",
    "        essaye de produire u  modele qui predit la bonne reponse\n",
    "\n",
    "comment entrainr le modele:\n",
    "    1: definir un noeud racine\n",
    "        ce noeud racine : question sur caracteristique aleaoitre : sunny , rainy , alone \n",
    "        donc \n",
    "        "
   ]
  },
  {
   "cell_type": "code",
   "execution_count": 5,
   "id": "ff0c7245",
   "metadata": {},
   "outputs": [],
   "source": [
    "from sklearn.datasets import load_breast_cancer\n",
    "from sklearn.model_selection import train_test_split\n",
    "from sklearn.svm import SVC\n",
    "from sklearn.tree import DecisionTreeClassifier\n",
    "from sklearn.ensemble import RandomForestClassifier\n",
    "from sklearn.neighbors import KNeighborsClassifier"
   ]
  },
  {
   "cell_type": "code",
   "execution_count": 6,
   "id": "e22ea9f4",
   "metadata": {},
   "outputs": [],
   "source": [
    "data = load_breast_cancer()\n",
    "X = data.data\n",
    "Y = data.target"
   ]
  },
  {
   "cell_type": "code",
   "execution_count": 7,
   "id": "e97d4340",
   "metadata": {},
   "outputs": [],
   "source": [
    "x_train, x_test, y_train, y_test = train_test_split(X, Y, test_size=0.2)\n",
    "# 0.2 = 20 %"
   ]
  },
  {
   "cell_type": "code",
   "execution_count": 8,
   "id": "7e8e68d6",
   "metadata": {},
   "outputs": [
    {
     "data": {
      "text/plain": [
       "SVC(C=3, kernel='linear')"
      ]
     },
     "execution_count": 8,
     "metadata": {},
     "output_type": "execute_result"
    }
   ],
   "source": [
    "clf = SVC(kernel='linear', C=3)\n",
    "clf.fit(x_train, y_train)"
   ]
  },
  {
   "cell_type": "code",
   "execution_count": 9,
   "id": "cf21ddde",
   "metadata": {},
   "outputs": [
    {
     "data": {
      "text/plain": [
       "KNeighborsClassifier(n_neighbors=3)"
      ]
     },
     "execution_count": 9,
     "metadata": {},
     "output_type": "execute_result"
    }
   ],
   "source": [
    "#ajouter un deuxiéme classificateur \n",
    "clf2 = KNeighborsClassifier(n_neighbors=3)\n",
    "clf2.fit(x_train, y_train)"
   ]
  },
  {
   "cell_type": "code",
   "execution_count": 10,
   "id": "cfb842ab",
   "metadata": {},
   "outputs": [
    {
     "data": {
      "text/plain": [
       "DecisionTreeClassifier()"
      ]
     },
     "execution_count": 10,
     "metadata": {},
     "output_type": "execute_result"
    }
   ],
   "source": [
    "clf3 = DecisionTreeClassifier()\n",
    "clf3.fit(x_train, y_train)"
   ]
  },
  {
   "cell_type": "code",
   "execution_count": 11,
   "id": "10fac521",
   "metadata": {},
   "outputs": [
    {
     "data": {
      "text/plain": [
       "RandomForestClassifier()"
      ]
     },
     "execution_count": 11,
     "metadata": {},
     "output_type": "execute_result"
    }
   ],
   "source": [
    "clf4 = RandomForestClassifier()\n",
    "clf4.fit(x_train, y_train)"
   ]
  },
  {
   "cell_type": "code",
   "execution_count": 22,
   "id": "dfabb3b1",
   "metadata": {},
   "outputs": [
    {
     "name": "stdout",
     "output_type": "stream",
     "text": [
      "0.9122807017543859\n",
      "0.9473684210526315\n",
      "0.8859649122807017\n",
      "0.9473684210526315\n"
     ]
    }
   ],
   "source": [
    "# score en pourcentage\n",
    "print(clf.score(x_test, y_test))  #f'SVC:\n",
    "print(clf2.score(x_test, y_test)) #'KNN: \n",
    "print(clf3.score(x_test, y_test)) #f'DTC:\n",
    "print(clf4.score(x_test, y_test)) #f'RFC: "
   ]
  },
  {
   "cell_type": "code",
   "execution_count": null,
   "id": "bcabbc5e",
   "metadata": {},
   "outputs": [],
   "source": []
  }
 ],
 "metadata": {
  "kernelspec": {
   "display_name": "Python 3 (ipykernel)",
   "language": "python",
   "name": "python3"
  },
  "language_info": {
   "codemirror_mode": {
    "name": "ipython",
    "version": 3
   },
   "file_extension": ".py",
   "mimetype": "text/x-python",
   "name": "python",
   "nbconvert_exporter": "python",
   "pygments_lexer": "ipython3",
   "version": "3.7.16"
  }
 },
 "nbformat": 4,
 "nbformat_minor": 5
}
