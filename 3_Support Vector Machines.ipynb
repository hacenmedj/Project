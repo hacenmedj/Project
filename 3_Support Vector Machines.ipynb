{
 "cells": [
  {
   "cell_type": "markdown",
   "id": "9d42cca4",
   "metadata": {},
   "source": [
    "# Support Vector Machines"
   ]
  },
  {
   "cell_type": "markdown",
   "id": "b3d27de2",
   "metadata": {},
   "source": [
    "Voici un tutoriel étape par étape pour expliquer ce code Python, qui utilise des outils de machine learning de la bibliothèque scikit-learn. L'objectif est de construire et d'évaluer deux modèles de classification pour prédire si une tumeur est bénigne ou maligne à partir de données sur le cancer du sein."
   ]
  },
  {
   "cell_type": "markdown",
   "id": "45846b4a",
   "metadata": {},
   "source": [
    "Explication : Machine à Vecteurs de Support (SVM)\n",
    "\n",
    "La Machine à Vecteurs de Support (SVM, pour Support Vector Machine) est un modèle d'apprentissage automatique puissant utilisé pour résoudre des problèmes de classification et de régression. Voici une explication complète et détaillée, enrichie pour clarifier son fonctionnement et ses avantages :\n",
    "Définition et Objectif\n",
    "\n",
    "    Une SVM est un algorithme d'apprentissage supervisé qui permet de classer des données en catégories. Par exemple, dans ce cas, elle aide à prédire si une tumeur est bénigne ou maligne.\n",
    "    Elle est particulièrement efficace pour les problèmes complexes, souvent surpassant d'autres algorithmes comme les réseaux de neurones pour des données bien structurées.\n",
    "    Le but principal d'une SVM est de trouver une fonction mathématique linéaire ou non linéaire qui sépare les données en classes distinctes.\n",
    "\n",
    "Principe Fondamental\n",
    "\n",
    "    Hyperplan : La SVM cherche à déterminer un hyperplan optimal qui divise les données en deux classes. Un hyperplan est une ligne (en 2D), un plan (en 3D) ou une structure de dimension supérieure dans des espaces plus complexes.\n",
    "    Marge (Margin) : La marge est la distance entre l'hyperplan et les points les plus proches de chaque classe (appelés vecteurs de support).\n",
    "        La SVM maximise cette marge, ce qui rend la classification plus robuste.\n",
    "    Infinité de solutions : Théoriquement, il y a une infinité d'hyperplans possibles pour séparer les classes, mais la SVM choisit celui avec la plus grande marge, car cela réduit le risque d'erreur.\n",
    "\n",
    "Pourquoi la SVM est-elle puissante ?\n",
    "\n",
    "    Elle utilise des concepts mathématiques avancés pour transformer les données non linéaires en un espace où elles deviennent linéairement séparables grâce à des noyaux (kernels).\n",
    "        Par exemple, le noyau linéaire est utilisé dans le tutoriel, mais on peut aussi utiliser des noyaux comme polynomiaux ou RBF (Radial Basis Function) pour des séparations plus complexes.\n",
    "    Test intelligent : Une fois entraînée, la SVM peut prédire la classe des points inconnus en fonction de leur position par rapport à l'hyperplan.\n",
    "\n",
    "Pourquoi SVM > Réseaux de Neurones dans certains cas ?\n",
    "\n",
    "    Elle est souvent plus performante sur des données de petite ou moyenne taille et lorsque les classes sont bien définies.\n",
    "    Contrairement aux réseaux de neurones, la SVM est moins sensible aux paramètres initiaux et nécessite généralement moins de données pour bien fonctionner.\n",
    "\n",
    "Étapes dans l'entraînement d'une SVM\n",
    "\n",
    "    Extraction des données : Identifier les caractéristiques (features) importantes dans vos données.\n",
    "    Choix du noyau : Décider du type de fonction (noyau) qui sera utilisé pour trouver l'hyperplan optimal (linéaire, RBF, polynômial, etc.).\n",
    "    Optimisation : Utiliser des techniques d'optimisation pour maximiser la marge.\n",
    "    Évaluation : Tester le modèle sur des données inconnues (ensemble de test) pour évaluer sa précision.\n",
    "\n",
    "Conclusion\n",
    "\n",
    "La SVM est un modèle mathématique rigoureux et efficace pour classer les données. En maximisant la marge et en trouvant l'hyperplan optimal, elle offre souvent des performances élevées, même dans des contextes où d'autres modèles comme les réseaux de neurones pourraient nécessiter plus de données ou de réglages. Elle est particulièrement utile dans des applications médicales, comme la détection de maladies, où une précision élevée est cruciale."
   ]
  },
  {
   "cell_type": "markdown",
   "id": "962cbe7e",
   "metadata": {},
   "source": [
    "# 1. Importation des bibliothèques"
   ]
  },
  {
   "cell_type": "markdown",
   "id": "a6a6e8e7",
   "metadata": {},
   "source": [
    "load_breast_cancer : Charge un ensemble de données prédéfini dans scikit-learn sur le cancer du sein.\n",
    "train_test_split : Divise les données en un ensemble d'entraînement et un ensemble de test.\n",
    "SVC : Importation du classificateur \"Support Vector Machine\" (SVM).\n",
    "KNeighborsClassifier : Importation du classificateur basé sur les k plus proches voisins (k-NN)."
   ]
  },
  {
   "cell_type": "markdown",
   "id": "92b3ab6d",
   "metadata": {},
   "source": []
  },
  {
   "cell_type": "code",
   "execution_count": 6,
   "id": "a8a8bfba",
   "metadata": {},
   "outputs": [],
   "source": [
    "from sklearn.datasets import load_breast_cancer\n",
    "from sklearn.model_selection import train_test_split\n",
    "from sklearn.svm import SVC\n",
    "from sklearn.neighbors import KNeighborsClassifier"
   ]
  },
  {
   "cell_type": "markdown",
   "id": "1f4b1867",
   "metadata": {},
   "source": [
    "# 2. Chargement et préparation des données"
   ]
  },
  {
   "cell_type": "markdown",
   "id": "dd8cbd8b",
   "metadata": {},
   "source": [
    "data : Contient l'ensemble des données sur le cancer du sein.\n",
    "\n",
    "    data.data : Matrice des caractéristiques (dimensions des tumeurs, textures, etc.).\n",
    "    data.target : Les étiquettes (0 = maligne, 1 = bénigne).\n",
    "\n",
    "X : Les caractéristiques d'entrée.\n",
    "Y : Les étiquettes de sortie."
   ]
  },
  {
   "cell_type": "code",
   "execution_count": 26,
   "id": "ed2f8f33",
   "metadata": {},
   "outputs": [],
   "source": [
    "data = load_breast_cancer()\n",
    "X = data.data\n",
    "Y = data.target"
   ]
  },
  {
   "cell_type": "markdown",
   "id": "4797a905",
   "metadata": {},
   "source": [
    "# 3. Division des données"
   ]
  },
  {
   "cell_type": "markdown",
   "id": "8071d208",
   "metadata": {},
   "source": [
    "train_test_split : Divise les données en deux parties :\n",
    "\n",
    "    x_train et y_train : Ensemble d'entraînement utilisé pour construire les modèles.\n",
    "    x_test et y_test : Ensemble de test utilisé pour évaluer les modèles.\n",
    "\n",
    "test_size=0.2 : 20% des données sont réservées pour les tests."
   ]
  },
  {
   "cell_type": "code",
   "execution_count": 15,
   "id": "59b985b3",
   "metadata": {},
   "outputs": [],
   "source": [
    "x_train, x_test, y_train, y_test = train_test_split(X, Y, test_size=0.2)\n",
    "# 0.2 = 20 %"
   ]
  },
  {
   "cell_type": "markdown",
   "id": "b63c8769",
   "metadata": {},
   "source": [
    "# 4. Construction du premier modèle : Support Vector Classifier (SVC)"
   ]
  },
  {
   "cell_type": "markdown",
   "id": "82c0321d",
   "metadata": {},
   "source": [
    "SVC :\n",
    "\n",
    "kernel='linear' : Utilise un noyau linéaire pour séparer les données.\n",
    "C=3 : Contrôle la régularisation. Une valeur plus élevée donne plus d'importance à la classification correcte des exemples\n",
    "d'entraînement.\n",
    "\n",
    "fit(x_train, y_train) : Entraîne le modèle avec les données d'entraînement."
   ]
  },
  {
   "cell_type": "code",
   "execution_count": 27,
   "id": "805465e3",
   "metadata": {},
   "outputs": [
    {
     "data": {
      "text/plain": [
       "SVC(C=3, kernel='linear')"
      ]
     },
     "execution_count": 27,
     "metadata": {},
     "output_type": "execute_result"
    }
   ],
   "source": [
    "clf = SVC(kernel='linear', C=3)\n",
    "clf.fit(x_train, y_train)"
   ]
  },
  {
   "cell_type": "markdown",
   "id": "d50f18c1",
   "metadata": {},
   "source": [
    "# 5. Construction du deuxième modèle : k-Nearest Neighbors (k-NN)"
   ]
  },
  {
   "cell_type": "markdown",
   "id": "769c7f69",
   "metadata": {},
   "source": [
    "KNeighborsClassifier :\n",
    "\n",
    "    n_neighbors=3 : Utilise 3 voisins pour classer chaque exemple.\n",
    "\n",
    "fit(x_train, y_train) : Entraîne le modèle sur les données d'entraînement."
   ]
  },
  {
   "cell_type": "code",
   "execution_count": 23,
   "id": "1ed94b99",
   "metadata": {},
   "outputs": [
    {
     "data": {
      "text/plain": [
       "KNeighborsClassifier(n_neighbors=3)"
      ]
     },
     "execution_count": 23,
     "metadata": {},
     "output_type": "execute_result"
    }
   ],
   "source": [
    "#ajouter un deuxiéme classificateur \n",
    "clf2 = KNeighborsClassifier(n_neighbors=3)\n",
    "clf2.fit(x_train, y_train)"
   ]
  },
  {
   "cell_type": "markdown",
   "id": "b43c259b",
   "metadata": {},
   "source": [
    "# 6. Évaluation des modèles"
   ]
  },
  {
   "cell_type": "markdown",
   "id": "f6b3c32e",
   "metadata": {},
   "source": [
    "clf.score et clf2.score :\n",
    "\n",
    "Calculent la précision des modèles respectifs\n",
    "sur les données de test. La précision est la proportion des prédictions correctes."
   ]
  },
  {
   "cell_type": "code",
   "execution_count": 25,
   "id": "ee4b753b",
   "metadata": {},
   "outputs": [
    {
     "name": "stdout",
     "output_type": "stream",
     "text": [
      "0.9385964912280702\n",
      "0.8771929824561403\n"
     ]
    }
   ],
   "source": [
    "# score en pourcentage\n",
    "print(clf.score(x_test, y_test))\n",
    "print(clf2.score(x_test, y_test))"
   ]
  },
  {
   "cell_type": "markdown",
   "id": "aca5de47",
   "metadata": {},
   "source": [
    "# 7. Résultats"
   ]
  },
  {
   "cell_type": "markdown",
   "id": "9f311d15",
   "metadata": {},
   "source": [
    "Le modèle SVM avec un noyau linéaire a une précision d'environ 93.9%.\n",
    "Le modèle k-NN avec 3 voisins a une précision d'environ 87.7%."
   ]
  },
  {
   "cell_type": "markdown",
   "id": "c767dce3",
   "metadata": {},
   "source": [
    "# 8. Conclusion"
   ]
  },
  {
   "cell_type": "markdown",
   "id": "d1834b69",
   "metadata": {},
   "source": [
    "Ce tutoriel montre comment utiliser scikit-learn pour :\n",
    "\n",
    "    Charger un jeu de données.\n",
    "    Diviser les données en ensembles d'entraînement et de test.\n",
    "    Construire et entraîner deux modèles différents (SVM et k-NN).\n",
    "    Comparer les performances des modèles.\n",
    "\n",
    "Vous pouvez expérimenter avec différents paramètres pour SVC (par ex. kernel='rbf') ou KNeighborsClassifier (par ex. changer n_neighbors) pour voir comment ils affectent la précision."
   ]
  }
 ],
 "metadata": {
  "kernelspec": {
   "display_name": "Python 3 (ipykernel)",
   "language": "python",
   "name": "python3"
  },
  "language_info": {
   "codemirror_mode": {
    "name": "ipython",
    "version": 3
   },
   "file_extension": ".py",
   "mimetype": "text/x-python",
   "name": "python",
   "nbconvert_exporter": "python",
   "pygments_lexer": "ipython3",
   "version": "3.7.16"
  }
 },
 "nbformat": 4,
 "nbformat_minor": 5
}
